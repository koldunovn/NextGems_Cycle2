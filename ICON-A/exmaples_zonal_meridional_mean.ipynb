{
 "cells": [
  {
   "cell_type": "code",
   "execution_count": 1,
   "id": "5b6d472b",
   "metadata": {},
   "outputs": [
    {
     "name": "stderr",
     "output_type": "stream",
     "text": [
      "/sw/spack-levante/mambaforge-4.11.0-0-Linux-x86_64-sobz6z/lib/python3.9/site-packages/dask_jobqueue/core.py:20: FutureWarning: tmpfile is deprecated and will be removed in a future release. Please use dask.utils.tmpfile instead.\n",
      "  from distributed.utils import tmpfile\n"
     ]
    }
   ],
   "source": [
    "####importing packages\n",
    "import sys\n",
    "sys.path.append('/work/mh0731/m300876/package/')\n",
    "import icons\n",
    "from pathlib import Path\n",
    "import importlib\n",
    "import numpy as np\n"
   ]
  },
  {
   "cell_type": "code",
   "execution_count": 2,
   "id": "d689a3e8",
   "metadata": {},
   "outputs": [
    {
     "name": "stdout",
     "output_type": "stream",
     "text": [
      "Number of CPUs: 256, number of threads: 256, number of workers: 1, processes: False\n"
     ]
    },
    {
     "data": {
      "text/html": [
       "<div>\n",
       "    <div style=\"width: 24px; height: 24px; background-color: #e1e1e1; border: 3px solid #9D9D9D; border-radius: 5px; position: absolute;\"> </div>\n",
       "    <div style=\"margin-left: 48px;\">\n",
       "        <h3 style=\"margin-bottom: 0px;\">Client</h3>\n",
       "        <p style=\"color: #9D9D9D; margin-bottom: 0px;\">Client-e0fc1d05-f6bd-11ec-9f64-080038c03b6f</p>\n",
       "        <table style=\"width: 100%; text-align: left;\">\n",
       "\n",
       "        <tr>\n",
       "        \n",
       "            <td style=\"text-align: left;\"><strong>Connection method:</strong> Cluster object</td>\n",
       "            <td style=\"text-align: left;\"><strong>Cluster type:</strong> distributed.LocalCluster</td>\n",
       "        \n",
       "        </tr>\n",
       "\n",
       "        \n",
       "            <tr>\n",
       "                <td style=\"text-align: left;\">\n",
       "                    <strong>Dashboard: </strong> <a href=\"/user/m300876/levante-spawner-advanced//proxy/8787/status\" target=\"_blank\">/user/m300876/levante-spawner-advanced//proxy/8787/status</a>\n",
       "                </td>\n",
       "                <td style=\"text-align: left;\"></td>\n",
       "            </tr>\n",
       "        \n",
       "\n",
       "        </table>\n",
       "\n",
       "        \n",
       "            <details>\n",
       "            <summary style=\"margin-bottom: 20px;\"><h3 style=\"display: inline;\">Cluster Info</h3></summary>\n",
       "            <div class=\"jp-RenderedHTMLCommon jp-RenderedHTML jp-mod-trusted jp-OutputArea-output\">\n",
       "    <div style=\"width: 24px; height: 24px; background-color: #e1e1e1; border: 3px solid #9D9D9D; border-radius: 5px; position: absolute;\">\n",
       "    </div>\n",
       "    <div style=\"margin-left: 48px;\">\n",
       "        <h3 style=\"margin-bottom: 0px; margin-top: 0px;\">LocalCluster</h3>\n",
       "        <p style=\"color: #9D9D9D; margin-bottom: 0px;\">2a22c959</p>\n",
       "        <table style=\"width: 100%; text-align: left;\">\n",
       "            <tr>\n",
       "                <td style=\"text-align: left;\">\n",
       "                    <strong>Dashboard:</strong> <a href=\"/user/m300876/levante-spawner-advanced//proxy/8787/status\" target=\"_blank\">/user/m300876/levante-spawner-advanced//proxy/8787/status</a>\n",
       "                </td>\n",
       "                <td style=\"text-align: left;\">\n",
       "                    <strong>Workers:</strong> 1\n",
       "                </td>\n",
       "            </tr>\n",
       "            <tr>\n",
       "                <td style=\"text-align: left;\">\n",
       "                    <strong>Total threads:</strong> 256\n",
       "                </td>\n",
       "                <td style=\"text-align: left;\">\n",
       "                    <strong>Total memory:</strong> 59.60 GiB\n",
       "                </td>\n",
       "            </tr>\n",
       "            \n",
       "            <tr>\n",
       "    <td style=\"text-align: left;\"><strong>Status:</strong> running</td>\n",
       "    <td style=\"text-align: left;\"><strong>Using processes:</strong> False</td>\n",
       "</tr>\n",
       "\n",
       "            \n",
       "        </table>\n",
       "\n",
       "        <details>\n",
       "            <summary style=\"margin-bottom: 20px;\">\n",
       "                <h3 style=\"display: inline;\">Scheduler Info</h3>\n",
       "            </summary>\n",
       "\n",
       "            <div style=\"\">\n",
       "    <div>\n",
       "        <div style=\"width: 24px; height: 24px; background-color: #FFF7E5; border: 3px solid #FF6132; border-radius: 5px; position: absolute;\"> </div>\n",
       "        <div style=\"margin-left: 48px;\">\n",
       "            <h3 style=\"margin-bottom: 0px;\">Scheduler</h3>\n",
       "            <p style=\"color: #9D9D9D; margin-bottom: 0px;\">Scheduler-3a2469f9-3060-4f44-87ca-5ac1097b1c81</p>\n",
       "            <table style=\"width: 100%; text-align: left;\">\n",
       "                <tr>\n",
       "                    <td style=\"text-align: left;\">\n",
       "                        <strong>Comm:</strong> inproc://136.172.121.117/434020/1\n",
       "                    </td>\n",
       "                    <td style=\"text-align: left;\">\n",
       "                        <strong>Workers:</strong> 1\n",
       "                    </td>\n",
       "                </tr>\n",
       "                <tr>\n",
       "                    <td style=\"text-align: left;\">\n",
       "                        <strong>Dashboard:</strong> <a href=\"/user/m300876/levante-spawner-advanced//proxy/8787/status\" target=\"_blank\">/user/m300876/levante-spawner-advanced//proxy/8787/status</a>\n",
       "                    </td>\n",
       "                    <td style=\"text-align: left;\">\n",
       "                        <strong>Total threads:</strong> 256\n",
       "                    </td>\n",
       "                </tr>\n",
       "                <tr>\n",
       "                    <td style=\"text-align: left;\">\n",
       "                        <strong>Started:</strong> Just now\n",
       "                    </td>\n",
       "                    <td style=\"text-align: left;\">\n",
       "                        <strong>Total memory:</strong> 59.60 GiB\n",
       "                    </td>\n",
       "                </tr>\n",
       "            </table>\n",
       "        </div>\n",
       "    </div>\n",
       "\n",
       "    <details style=\"margin-left: 48px;\">\n",
       "        <summary style=\"margin-bottom: 20px;\">\n",
       "            <h3 style=\"display: inline;\">Workers</h3>\n",
       "        </summary>\n",
       "\n",
       "        \n",
       "        <div style=\"margin-bottom: 20px;\">\n",
       "            <div style=\"width: 24px; height: 24px; background-color: #DBF5FF; border: 3px solid #4CC9FF; border-radius: 5px; position: absolute;\"> </div>\n",
       "            <div style=\"margin-left: 48px;\">\n",
       "            <details>\n",
       "                <summary>\n",
       "                    <h4 style=\"margin-bottom: 0px; display: inline;\">Worker: 0</h4>\n",
       "                </summary>\n",
       "                <table style=\"width: 100%; text-align: left;\">\n",
       "                    <tr>\n",
       "                        <td style=\"text-align: left;\">\n",
       "                            <strong>Comm: </strong> inproc://136.172.121.117/434020/4\n",
       "                        </td>\n",
       "                        <td style=\"text-align: left;\">\n",
       "                            <strong>Total threads: </strong> 256\n",
       "                        </td>\n",
       "                    </tr>\n",
       "                    <tr>\n",
       "                        <td style=\"text-align: left;\">\n",
       "                            <strong>Dashboard: </strong> <a href=\"/user/m300876/levante-spawner-advanced//proxy/44645/status\" target=\"_blank\">/user/m300876/levante-spawner-advanced//proxy/44645/status</a>\n",
       "                        </td>\n",
       "                        <td style=\"text-align: left;\">\n",
       "                            <strong>Memory: </strong> 59.60 GiB\n",
       "                        </td>\n",
       "                    </tr>\n",
       "                    <tr>\n",
       "                        <td style=\"text-align: left;\">\n",
       "                            <strong>Nanny: </strong> None\n",
       "                        </td>\n",
       "                        <td style=\"text-align: left;\"></td>\n",
       "                    </tr>\n",
       "                    <tr>\n",
       "                        <td colspan=\"2\" style=\"text-align: left;\">\n",
       "                            <strong>Local directory: </strong> /home/m/m300876/jupyter/hackathon_wien/dask-worker-space/worker-cjdor4dz\n",
       "                        </td>\n",
       "                    </tr>\n",
       "\n",
       "                    \n",
       "\n",
       "                    \n",
       "\n",
       "                </table>\n",
       "            </details>\n",
       "            </div>\n",
       "        </div>\n",
       "        \n",
       "\n",
       "    </details>\n",
       "</div>\n",
       "\n",
       "        </details>\n",
       "    </div>\n",
       "</div>\n",
       "            </details>\n",
       "        \n",
       "\n",
       "    </div>\n",
       "</div>"
      ],
      "text/plain": [
       "<Client: 'inproc://136.172.121.117/434020/1' processes=1 threads=256, memory=59.60 GiB>"
      ]
     },
     "execution_count": 2,
     "metadata": {},
     "output_type": "execute_result"
    }
   ],
   "source": [
    "icons.prepare_cpu(memory='64GB')"
   ]
  },
  {
   "cell_type": "code",
   "execution_count": 3,
   "id": "c5c3424e",
   "metadata": {},
   "outputs": [],
   "source": [
    "#Define a global pattern to find the files\n",
    "###cloud liquid water \n",
    "glob_pattern_3d1 = 'atm_2d_30min_mean'\n",
    "## Define the paths of file 1 (dppp0016)\n",
    "data_path1 = Path('/work/bm1235/k203123/experiments/ngc2009')\n",
    "## Collect all file names with pathlib's rglob and list compression  -- cloud liquid water \n",
    "files01 = sorted([str(f) for f in data_path1.glob(f'run*/*{glob_pattern_3d1}*')])[:]"
   ]
  },
  {
   "cell_type": "markdown",
   "id": "32524f3c",
   "metadata": {},
   "source": [
    "**Meridional mean**"
   ]
  },
  {
   "cell_type": "code",
   "execution_count": 13,
   "id": "c877a3b3",
   "metadata": {},
   "outputs": [],
   "source": [
    "var='pr';\n",
    "lat=[-10,10]\n",
    "lon=[90,150]\n",
    "time = ['2020-01-21','2020-03-31']"
   ]
  },
  {
   "cell_type": "code",
   "execution_count": 14,
   "id": "244a535d",
   "metadata": {},
   "outputs": [
    {
     "name": "stdout",
     "output_type": "stream",
     "text": [
      "CPU times: user 6min 57s, sys: 4min 5s, total: 11min 3seted |  5min 19.9s\n",
      "Wall time: 7min 34s\n"
     ]
    }
   ],
   "source": [
    "#icons.meridional_mean(files,variable,time_range,latitude_range,longitude_range,interval_bins,t_step,mask,better_times)\n",
    "#interval_bins = size in degrees for grouping longitudes \n",
    "#t_step = time resample. By default is one day (1D)\n",
    "#mask = land-sea mask. By default is None. 0 to mask land and 1 to mask ocean.\n",
    "#better_times = False for simulation in the Cycle2. True for simulation of Cycle 1.\n",
    "%time pr_mean01 = icons.meridional_mean(files01,var,time,lat,lon,0.5,mask=None,better_time=False)"
   ]
  },
  {
   "cell_type": "code",
   "execution_count": 15,
   "id": "143d305c",
   "metadata": {},
   "outputs": [],
   "source": [
    "from matplotlib import pyplot as plt # Standard Plotting library\n",
    "from matplotlib import cm\n",
    "from matplotlib.colors import ListedColormap, LinearSegmentedColormap"
   ]
  },
  {
   "cell_type": "code",
   "execution_count": 16,
   "id": "d3452f20",
   "metadata": {},
   "outputs": [
    {
     "data": {
      "image/png": "[encoded data removed]",
      "text/plain": [
       "<Figure size 288x720 with 2 Axes>"
      ]
     },
     "metadata": {
      "needs_background": "light"
     },
     "output_type": "display_data"
    }
   ],
   "source": [
    "fig = plt.figure(figsize=(4, 10))\n",
    "ax = fig.add_subplot(111)\n",
    "plot= (pr_mean01*24*3600).sel(time=slice('2020-01-20','2020-02-29')).plot(cmap='gist_earth_r',levels = np.linspace(0,28,15),extend='both',add_colorbar=False)\n",
    "ax.set_xlim([90,150])\n",
    "ax.set_xlabel('Longitude')\n",
    "cb1 = plt.colorbar(plot,extend='both',orientation='horizontal',shrink=0.8,pad=0.09)\n",
    "cb1.ax.set_xlabel(' Precip / mm day$^{-1}$',fontsize=12)\n",
    "cb1.ax.tick_params(labelsize=12)\n",
    "plt.subplots_adjust(wspace=0.6)"
   ]
  },
  {
   "cell_type": "markdown",
   "id": "08ba6e2a",
   "metadata": {},
   "source": [
    "**Zonal mean**"
   ]
  },
  {
   "cell_type": "code",
   "execution_count": 18,
   "id": "d980f4bb",
   "metadata": {},
   "outputs": [],
   "source": [
    "var='pr';\n",
    "lat=[-10,10]\n",
    "lon=[90,150]\n",
    "time = ['2020-01-21','2020-03-31']"
   ]
  },
  {
   "cell_type": "code",
   "execution_count": 17,
   "id": "4af42cc2",
   "metadata": {},
   "outputs": [
    {
     "name": "stdout",
     "output_type": "stream",
     "text": [
      "CPU times: user 5min 38s, sys: 4min 8s, total: 9min 46seted |  4min 47.4s\n",
      "Wall time: 6min 58s\n"
     ]
    }
   ],
   "source": [
    "#icons.zonal_mean(files,variable,time_range,latitude_range,longitude_range,interval_bins,t_step,mask,better_times)\n",
    "#interval_bins = size in degrees for grouping latitudes\n",
    "#t_step = time resample. By default is one day (1D)\n",
    "#mask = land-sea mask. By default is None. 0 to mask land and 1 to mask ocean.\n",
    "#better_times = False for simulation in the Cycle2. True for simulation of Cycle 1.\n",
    "%time pr_mean_zonal = icons.zonal_mean(files01,var,time,lat,lon,0.5,mask=None,better_time=False)"
   ]
  },
  {
   "cell_type": "code",
   "execution_count": 20,
   "id": "0fdb3838",
   "metadata": {},
   "outputs": [
    {
     "data": {
      "image/png": "[encoded data removed]",
      "text/plain": [
       "<Figure size 288x720 with 2 Axes>"
      ]
     },
     "metadata": {
      "needs_background": "light"
     },
     "output_type": "display_data"
    }
   ],
   "source": [
    "fig = plt.figure(figsize=(4, 10))\n",
    "ax = fig.add_subplot(111)\n",
    "plot= (pr_mean_zonal*24*3600).sel(time=slice('2020-01-20','2020-02-29')).plot(cmap='gist_earth_r',levels = np.linspace(0,28,15),extend='both',add_colorbar=False)\n",
    "ax.set_xlim([-10,10])\n",
    "ax.set_xlabel('Latutude')\n",
    "cb1 = plt.colorbar(plot,extend='both',orientation='horizontal',shrink=0.8,pad=0.09)\n",
    "cb1.ax.set_xlabel(' Precip / mm day$^{-1}$',fontsize=12)\n",
    "cb1.ax.tick_params(labelsize=12)\n",
    "plt.subplots_adjust(wspace=0.6)"
   ]
  },
  {
   "cell_type": "code",
   "execution_count": 23,
   "id": "c1dbf977",
   "metadata": {},
   "outputs": [
    {
     "data": {
      "text/plain": [
       "Text(0, 0.5, 'Precipitation / mm day$^{-1}$')"
      ]
     },
     "execution_count": 23,
     "metadata": {},
     "output_type": "execute_result"
    },
    {
     "data": {
      "image/png": "[encoded data removed]",
      "text/plain": [
       "<Figure size 432x432 with 1 Axes>"
      ]
     },
     "metadata": {
      "needs_background": "light"
     },
     "output_type": "display_data"
    }
   ],
   "source": [
    "###cmputing zonal mean\n",
    "fig = plt.figure(figsize=(6, 6))\n",
    "ax = fig.add_subplot(111)\n",
    "plot= (pr_mean_zonal*24*3600).sel(time=slice('2020-01-20','2020-02-29')).mean(dim='time').plot()\n",
    "ax.set_xlabel('Latitude')\n",
    "ax.set_ylabel('Precipitation / mm day$^{-1}$')"
   ]
  },
  {
   "cell_type": "code",
   "execution_count": null,
   "id": "f22ed82c",
   "metadata": {},
   "outputs": [],
   "source": []
  }
 ],
 "metadata": {
  "kernelspec": {
   "display_name": "Python 3 (based on the module python3/2022.01)",
   "language": "python",
   "name": "python3_2022_01"
  },
  "language_info": {
   "codemirror_mode": {
    "name": "ipython",
    "version": 3
   },
   "file_extension": ".py",
   "mimetype": "text/x-python",
   "name": "python",
   "nbconvert_exporter": "python",
   "pygments_lexer": "ipython3",
   "version": "3.9.9"
  }
 },
 "nbformat": 4,
 "nbformat_minor": 5
}
