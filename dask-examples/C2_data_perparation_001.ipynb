{
 "cells": [
  {
   "cell_type": "markdown",
   "id": "f9e2b5b6-1f65-40ce-984e-c12ef876d8b5",
   "metadata": {
    "tags": []
   },
   "source": [
    "# Benchmark Analysis with Cycle 2 Output: Surface Metrics for FESOM using [`dask`](https://www.dask.org)\n",
    "> Paul Gierz  \n",
    "> AWI Scientific Computing  \n",
    "> pgierz@awi.de  \n",
    "\n",
    "\n",
    "This notebook covers how to use [`dask`](https://www.dask.org) in conjunction with the SLURM Batch System on Levante to quickly compute and plot SST and SSS means. We will use the *heavy* simulation `tco3999-ng5`.\n"
   ]
  },
  {
   "cell_type": "code",
   "execution_count": null,
   "id": "cd028c96-5fd5-48cb-9c1c-488c86249b9e",
   "metadata": {},
   "outputs": [],
   "source": [
    "# Some benchmarking for timing:\n",
    "import datetime\n",
    "start_time = datetime.datetime.now()"
   ]
  },
  {
   "cell_type": "code",
   "execution_count": null,
   "id": "dcbaf705-7e29-44ed-ad29-a68dba2bfbe6",
   "metadata": {},
   "outputs": [],
   "source": [
    "# Import several libraries, all available in the NextGEMS Hackathon Cycle2 Kernel\n",
    "import pathlib\n",
    "import gribscan\n",
    "import intake\n",
    "import xarray as xr\n",
    "import dask\n",
    "import pandas as pd\n",
    "import geoviews as gv\n",
    "import holoviews as hv\n",
    "import cmocean\n",
    "import cartopy.crs as crs\n",
    "from dask_jobqueue import SLURMCluster\n",
    "from dask.distributed import Client\n",
    "import hvplot.xarray\n",
    "import math\n",
    "from holoviews.operation.datashader import datashade, shade, dynspread, spread, rasterize\n",
    "dask.config.config.get('distributed').get('dashboard').update({'link':'{JUPYTERHUB_SERVICE_PREFIX}/proxy/{port}/status'})\n",
    "import panel as pn\n",
    "pn.extension()"
   ]
  },
  {
   "cell_type": "code",
   "execution_count": null,
   "id": "b16f0569-e111-45ff-8cbf-1d6d691185e1",
   "metadata": {},
   "outputs": [],
   "source": [
    "# Open the dataset using the intake catalog:\n",
    "catalog_file = \"../catalog.yaml\"\n",
    "cat = intake.open_catalog(catalog_file)\n",
    "run = cat.FESOM[\"tco3999-ng5\"]"
   ]
  },
  {
   "cell_type": "code",
   "execution_count": null,
   "id": "454857ef-4ce7-4695-b1ec-2b7ad114f1b6",
   "metadata": {},
   "outputs": [],
   "source": [
    "# Convert both the data and the grid to Dask arrays\n",
    "data = run.original_2d.to_dask()\n",
    "grid = run.node_grid.to_dask()\n",
    "data"
   ]
  },
  {
   "cell_type": "code",
   "execution_count": null,
   "id": "29b5f243-2578-405f-91fa-46e419b0dca9",
   "metadata": {},
   "outputs": [],
   "source": [
    "cluster = SLURMCluster(\n",
    "    name='dask-cluster', \n",
    "    cores=128,\n",
    "    memory=f\"{8000 * 64 * 0.90} MB\",  # 230GB\n",
    "    project=\"bm1235\",\n",
    "    queue=\"compute\",\n",
    "    interface='ib0',\n",
    "    walltime='08:00:00',\n",
    "    job_extra=[\"-o dask-worker-%j.log\", \"-e dask-worker-%j.err\", \"--verbose\"],\n",
    ")"
   ]
  },
  {
   "cell_type": "code",
   "execution_count": null,
   "id": "3bdadc69-26e8-4c9f-8f31-8e1658c25753",
   "metadata": {},
   "outputs": [],
   "source": [
    "print(cluster.job_script())"
   ]
  },
  {
   "cell_type": "code",
   "execution_count": null,
   "id": "8b6b255e-6c52-4919-9a9f-18d1e7c76144",
   "metadata": {},
   "outputs": [],
   "source": [
    "# Scale to 15 compute nodes\n",
    "cluster.scale(jobs=15)"
   ]
  },
  {
   "cell_type": "code",
   "execution_count": null,
   "id": "c2765ee8-5317-4310-bb5d-3f8e065a281e",
   "metadata": {},
   "outputs": [],
   "source": [
    "client = Client(cluster)"
   ]
  },
  {
   "cell_type": "code",
   "execution_count": null,
   "id": "cf5c3ff4-6530-4528-9cac-719c9fe79eaf",
   "metadata": {},
   "outputs": [],
   "source": [
    "# Show the client object to get a sense for what is there.\n",
    "# As workers are added or removed, the dashboard might hang!\n",
    "client"
   ]
  },
  {
   "cell_type": "code",
   "execution_count": null,
   "id": "7a392a40-34a0-4917-8eb6-f4cb7dec0b14",
   "metadata": {},
   "outputs": [],
   "source": [
    "sst_mean = data.sst.mean(dim=\"time\")\n",
    "sst_mean"
   ]
  },
  {
   "cell_type": "code",
   "execution_count": null,
   "id": "0952ba6b-07d1-4f47-a499-b28801afbef9",
   "metadata": {},
   "outputs": [],
   "source": [
    "%%time\n",
    "sst_mean_computed = sst_mean.compute()"
   ]
  },
  {
   "cell_type": "code",
   "execution_count": null,
   "id": "94b54e22-20ac-4bc5-b880-734933f453fd",
   "metadata": {},
   "outputs": [],
   "source": [
    "sst_mean_computed"
   ]
  },
  {
   "cell_type": "code",
   "execution_count": null,
   "id": "0b7e07e0-e030-4dc2-bd42-65b77c23d055",
   "metadata": {},
   "outputs": [],
   "source": [
    "cluster.scale(jobs=0)"
   ]
  },
  {
   "cell_type": "code",
   "execution_count": null,
   "id": "67073fa9-713d-45c1-a9f3-48005f728df4",
   "metadata": {},
   "outputs": [],
   "source": [
    "# Rename the dimension\n",
    "sst_mean_computed = sst_mean_computed.rename({\"grid_size\": \"nod2\"})"
   ]
  },
  {
   "cell_type": "code",
   "execution_count": null,
   "id": "5e21855a-c52c-4d84-9da6-f8611cb017f2",
   "metadata": {},
   "outputs": [],
   "source": [
    "# Merge the grid and sst means\n",
    "sst_mean_computed = xr.merge([grid, sst_mean_computed])"
   ]
  },
  {
   "cell_type": "code",
   "execution_count": null,
   "id": "8b6b782f-9d33-4607-8730-07685f1eab6f",
   "metadata": {},
   "outputs": [],
   "source": [
    "sst_mean_computed"
   ]
  },
  {
   "cell_type": "code",
   "execution_count": null,
   "id": "1daa451c-622e-4870-b41b-652056954112",
   "metadata": {},
   "outputs": [],
   "source": [
    "sst_mean_computed.sst"
   ]
  },
  {
   "cell_type": "code",
   "execution_count": null,
   "id": "8dca913d-fe33-4402-a368-e363a54b5f68",
   "metadata": {},
   "outputs": [],
   "source": [
    "def fesom_2d_sfc_field_hover(ds, varname=\"sst\"):\n",
    "    da = getattr(ds, varname)\n",
    "    df = da.to_dataframe()\n",
    "    df.index.name = \"Node ID\"\n",
    "    df[\"Longitude (˚E)\"] = ds.grid_center_lon\n",
    "    df[\"Latitude (˚N)\"] = ds.grid_center_lat \n",
    "    points = gv.Points(df)\n",
    "    def filter_points(points, x_range, y_range):\n",
    "        if x_range is None or y_range is None:\n",
    "            return points\n",
    "        return points[x_range, y_range]\n",
    "\n",
    "    def hover_points(points, threshold=20000):\n",
    "        if len(points) > threshold:\n",
    "            # Do not return any points at all\n",
    "            return points.iloc[:0]\n",
    "        return points\n",
    "\n",
    "    range_stream = hv.streams.RangeXY(source=points)\n",
    "    streams=[range_stream]\n",
    "\n",
    "    filtered = points.apply(filter_points, streams=streams)\n",
    "    shaded = datashade(filtered, width=400, height=400, streams=streams)\n",
    "    hover = filtered.apply(hover_points)\n",
    "\n",
    "    dynamic_hover = (hover).opts(gv.opts.Points(tools=['hover'], alpha=0.1, hover_alpha=1, hover_line_color=\"red\", size=10, projection=crs.PlateCarree(), color=\"black\",))\n",
    "    return dynamic_hover\n",
    "    "
   ]
  },
  {
   "cell_type": "code",
   "execution_count": null,
   "id": "6dc47b95-f37e-44cd-8438-1fd3f9ec187c",
   "metadata": {},
   "outputs": [],
   "source": [
    "ds = sst_mean_computed\n",
    "varname = \"sst\"\n",
    "da = getattr(ds, varname)\n",
    "df = da.to_dataframe()\n",
    "df.index.name = \"Node ID\"\n",
    "df[\"Longitude (˚E)\"] = ds.grid_center_lon\n",
    "df[\"Latitude (˚N)\"] = ds.grid_center_lat \n"
   ]
  },
  {
   "cell_type": "code",
   "execution_count": null,
   "id": "0b67377e-e1ea-4d9b-8b7b-aac0e7e8e507",
   "metadata": {},
   "outputs": [],
   "source": [
    "node0 = ds.triag_nodes.isel(Three=0).astype(int)\n",
    "node1 = ds.triag_nodes.isel(Three=1).astype(int)\n",
    "node2 = ds.triag_nodes.isel(Three=2).astype(int)"
   ]
  },
  {
   "cell_type": "code",
   "execution_count": null,
   "id": "d946def5-0298-400b-8ede-af86c3573f29",
   "metadata": {},
   "outputs": [],
   "source": [
    "da_node0 = da.isel(grid_size=node0-1).rename({\"ntriags\": \"node0\"})\n",
    "da_node1 = da.isel(grid_size=node1-1).rename({\"ntriags\": \"node1\"})\n",
    "da_node2 = da.isel(grid_size=node2-1).rename({\"ntriags\": \"node2\"})"
   ]
  },
  {
   "cell_type": "code",
   "execution_count": null,
   "id": "b7c0738d-cc66-4807-8e23-0a66b459a77d",
   "metadata": {},
   "outputs": [],
   "source": [
    "array = xr.DataArray([da_node0, da_node1, da_node2], dims=(\"nod2\", \"ntriags\"))"
   ]
  },
  {
   "cell_type": "code",
   "execution_count": null,
   "id": "a8b62316-3370-4266-9211-cd97b0fd5c83",
   "metadata": {},
   "outputs": [],
   "source": [
    "sst_on_elements = array.mean(dim=\"nod2\")"
   ]
  },
  {
   "cell_type": "code",
   "execution_count": null,
   "id": "6b4eeb3e-f86b-4145-bc90-7ad4f454a095",
   "metadata": {},
   "outputs": [],
   "source": [
    "sst_on_elements"
   ]
  },
  {
   "cell_type": "code",
   "execution_count": null,
   "id": "cb04cf57-77a9-4e57-9054-40f79f8c614e",
   "metadata": {},
   "outputs": [],
   "source": [
    "df = pd.DataFrame({\"Node 1\": node0 - 1, \"Node 2\": node1 - 1 ,  \"Node 3\": node2 - 1, \"SST\": sst_on_elements})\n",
    "df.index.name = \"Element ID\"\n",
    "df.head()"
   ]
  },
  {
   "cell_type": "code",
   "execution_count": null,
   "id": "a7e8949a-5812-436c-bee2-c5c97958f317",
   "metadata": {},
   "outputs": [],
   "source": [
    "nodes = gv.Points((ds.grid_center_lon, ds.grid_center_lat))"
   ]
  },
  {
   "cell_type": "code",
   "execution_count": null,
   "id": "74acafe8-1365-40a8-9bf6-3e9640107cf1",
   "metadata": {},
   "outputs": [],
   "source": [
    "nodes.shape"
   ]
  },
  {
   "cell_type": "code",
   "execution_count": null,
   "id": "3562ed07-76f1-455a-b0c3-c8bd60cef469",
   "metadata": {},
   "outputs": [],
   "source": [
    "trimesh = gv.TriMesh((df, nodes)).redim(\n",
    "        x=\"Longitude (˚E)\", y=\"Latitude (˚N)\", z=\"Depth (m**2)\"\n",
    ")"
   ]
  },
  {
   "cell_type": "code",
   "execution_count": null,
   "id": "fbb28527-0246-47ce-8be7-20853c348032",
   "metadata": {},
   "outputs": [],
   "source": [
    "trimesh.shape"
   ]
  },
  {
   "cell_type": "code",
   "execution_count": null,
   "id": "cab59d1d-dd37-428e-9a0f-3fb455592c0d",
   "metadata": {},
   "outputs": [],
   "source": [
    "projection = crs.PlateCarree()\n",
    "projected_trimesh = gv.project(trimesh, projection=projection)"
   ]
  },
  {
   "cell_type": "code",
   "execution_count": null,
   "id": "af59e91b-c4b9-42ff-8438-80c303b61d5e",
   "metadata": {},
   "outputs": [],
   "source": [
    "projected_trimesh.shape"
   ]
  },
  {
   "cell_type": "code",
   "execution_count": null,
   "id": "b2cdefb2-f68b-4089-9204-3161d300142e",
   "metadata": {},
   "outputs": [],
   "source": [
    "FESOM_raster = rasterize(projected_trimesh).opts(\n",
    "        cmap=cmocean.cm.thermal,\n",
    "        height=600,\n",
    "        width=900,\n",
    "        projection=projection,\n",
    "        colorbar=True,\n",
    "        colorbar_position=\"bottom\",\n",
    "        clabel=\"Sea Surface Temperature (˚C)\",\n",
    "        bgcolor=\"darkgray\",\n",
    "        color_levels=250,\n",
    "        clim=(-2, 30),\n",
    "        cformatter=\"%.0f\",\n",
    "        title=\"FESOM SST with {:,} 2d Nodes\".format(len(ds.grid_center_lon)),\n",
    "    )"
   ]
  },
  {
   "cell_type": "code",
   "execution_count": null,
   "id": "37fa050a-b42e-427b-bc27-da8697c5d13c",
   "metadata": {},
   "outputs": [],
   "source": [
    "dyn_hover = fesom_2d_sfc_field_hover(sst_mean_computed)"
   ]
  },
  {
   "cell_type": "code",
   "execution_count": null,
   "id": "a30ea109-8cf0-472a-9f52-b2192b0d902b",
   "metadata": {},
   "outputs": [],
   "source": [
    "dyn_hover * FESOM_raster"
   ]
  },
  {
   "cell_type": "code",
   "execution_count": null,
   "id": "c08e5672-d0fb-4b2b-af40-3c1926d50b18",
   "metadata": {},
   "outputs": [],
   "source": [
    "plot_finished = datetime.datetime.now()"
   ]
  },
  {
   "cell_type": "code",
   "execution_count": null,
   "id": "22994b1e-a21b-48ab-952a-3fcfc692a528",
   "metadata": {},
   "outputs": [],
   "source": [
    "print(f\"Done in {plot_finished - start_time}\")"
   ]
  }
 ],
 "metadata": {
  "kernelspec": {
   "display_name": "NextGEMS Hackathon Cycle 2 (Miniconda with Python 3.9.12)",
   "language": "python",
   "name": "nextgems"
  },
  "language_info": {
   "codemirror_mode": {
    "name": "ipython",
    "version": 3
   },
   "file_extension": ".py",
   "mimetype": "text/x-python",
   "name": "python",
   "nbconvert_exporter": "python",
   "pygments_lexer": "ipython3",
   "version": "3.9.12"
  }
 },
 "nbformat": 4,
 "nbformat_minor": 5
}
