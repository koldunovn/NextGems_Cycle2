{
 "cells": [
  {
   "cell_type": "code",
   "execution_count": 1,
   "id": "f04f7950-b505-419b-a9af-5121e5393744",
   "metadata": {},
   "outputs": [],
   "source": [
    "import icon_tiler\n",
    "import xarray as xr"
   ]
  },
  {
   "cell_type": "markdown",
   "id": "7ec7e5fa-8505-4589-ac9c-0b8af4b19623",
   "metadata": {},
   "source": [
    "## building tile indices"
   ]
  },
  {
   "cell_type": "code",
   "execution_count": 2,
   "id": "0aa52e3d-8461-466c-b42c-5fceda02c2f1",
   "metadata": {},
   "outputs": [],
   "source": [
    "grid = xr.open_dataset(\"/pool/data/ICON/grids/public/mpim/0037/icon_grid_0037_R02B11_G.nc\")"
   ]
  },
  {
   "cell_type": "code",
   "execution_count": 3,
   "id": "0f045dad-fef5-4986-91cb-fdd6339ea929",
   "metadata": {},
   "outputs": [],
   "source": [
    "tiler = icon_tiler.CellTileIndexBuilder(grid)"
   ]
  },
  {
   "cell_type": "code",
   "execution_count": 4,
   "id": "1603fc5c-7a2d-49b2-9c71-121781dcfc75",
   "metadata": {},
   "outputs": [
    {
     "name": "stderr",
     "output_type": "stream",
     "text": [
      "100%|██████████| 256/256 [51:20<00:00, 12.03s/it]\n"
     ]
    }
   ],
   "source": [
    "level = 8\n",
    "tilesize = 512\n",
    "idx = tiler.generate_index(level, tilesize).assign_attrs(uuidOfHGrid=grid.uuidOfHGrid)"
   ]
  },
  {
   "cell_type": "code",
   "execution_count": 5,
   "id": "83ad97e1-bcae-4ad6-9dc4-96cef28922e5",
   "metadata": {},
   "outputs": [
    {
     "data": {
      "text/plain": [
       "<xarray.backends.zarr.ZarrStore at 0x7fffaf839eb0>"
      ]
     },
     "execution_count": 5,
     "metadata": {},
     "output_type": "execute_result"
    }
   ],
   "source": [
    "idx.to_zarr(f\"indices/tile_cell_indices_R02B11_level_{level}.zarr\",\n",
    "            encoding={\"cell_of_pixel\": {\"chunks\": [4, 4, tilesize, tilesize]}})"
   ]
  },
  {
   "cell_type": "code",
   "execution_count": null,
   "id": "7c9731b0-057b-4677-ac65-18df5b5d1ff4",
   "metadata": {},
   "outputs": [],
   "source": []
  }
 ],
 "metadata": {
  "kernelspec": {
   "display_name": "Python 3 (based on the module python3/2022.01)",
   "language": "python",
   "name": "python3_2022_01"
  },
  "language_info": {
   "codemirror_mode": {
    "name": "ipython",
    "version": 3
   },
   "file_extension": ".py",
   "mimetype": "text/x-python",
   "name": "python",
   "nbconvert_exporter": "python",
   "pygments_lexer": "ipython3",
   "version": "3.9.9"
  }
 },
 "nbformat": 4,
 "nbformat_minor": 5
}
